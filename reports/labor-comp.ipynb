{
 "cells": [
  {
   "cell_type": "markdown",
   "metadata": {},
   "source": [
    "# Labor Compensation Models\n",
    "\n",
    "## What Labor Does It Take to Make Sanguiche Run?\n",
    "Labor is currently seen to fall into two different categories: *prep* and *service*. Prep refers to both food prep as well as other tasks associated with Sanguiche that do not happen during service hours (writing this report, for example, is a form of \"prep labor\" under this defintion). Service refers to the work associated with selling food from either the trailer at Zony or another location. \n",
    "\n",
    "## Compensation Models Under Consideration\n",
    "So far, three separate models of compensation have been proposed. Two of these models require labor to be divided into the two different types of \"prep\" and \"service\".\n",
    "\n",
    "In no particular order:\n",
    "- **Model A**: Hourly wage across the board, do not distinguish between prep and service.\n",
    "- **Model B**: Two separate hourly wages apply -- one for prep labor and one for service labor\n",
    "- **Model C**: Hourly wage applies to prep labor, service labor is compensated as a percentage of the sales for the day worked\n",
    "\n",
    "***For clarity***: We're not considering tips or sales tax here. Neither of these factors affect any of the above models. "
   ]
  },
  {
   "cell_type": "markdown",
   "metadata": {},
   "source": [
    "## What Do We Want to Know from Each Model?\n",
    "The following questions will be answered for each model:\n",
    "- **Cost to Sanguiche**: How much per week does a model cost in payroll? How much per pay period? How much per month?\n",
    "- **Hourly Pay for Employees**: How much does each model break down to per hour for employees?"
   ]
  },
  {
   "cell_type": "markdown",
   "metadata": {},
   "source": [
    "## A \"Normal\" Week\n",
    "A \"normal\" week for Sanguiche refers to the combined efforts of the employees through prep and service labor to sell sandwiches. Each compensation model will be run through the estimated labor necessary to make a \"normal\" week.\n",
    "### Prep Hours\n",
    "Prep hours were estimated by Alex (and at the moment do not include an estimation for Brittany). \n",
    "### Service Hours \n",
    "We have been doing at least one offsite per week recently making this part of the \"normal\" week as well. Furthermore, with the agreement with SkeetSkeet to do every other Friday, it will average out to be an offsite more often than not given the sprinkling of other offsites. Therefore, the estimations for service hours assumes the four Zony shifts Th-Sun as well as one day where an offsite is happening. If an offsite doesn't happen that week, you can subtract 12 hours of labor from the service hours estimation for a week. \n",
    "\n",
    "When we write out the weekly estimations of prep and service hours spent per person, it looks like this:"
   ]
  },
  {
   "cell_type": "code",
   "execution_count": 136,
   "metadata": {},
   "outputs": [],
   "source": [
    "prep_hrs = {'Alex':14, 'Mike':3, 'Sam':2, 'Randal':2, 'Anton':1}\n",
    "srvc_hrs = {'Alex':28, 'Sam':12, 'Randal':12, 'Anton':22}"
   ]
  },
  {
   "cell_type": "markdown",
   "metadata": {},
   "source": [
    "It's also useful for us to calculate the total hours here:"
   ]
  },
  {
   "cell_type": "code",
   "execution_count": 137,
   "metadata": {},
   "outputs": [
    {
     "data": {
      "text/plain": [
       "{'Sam': 14, 'Mike': 3, 'Anton': 23, 'Alex': 42, 'Randal': 14}"
      ]
     },
     "execution_count": 137,
     "metadata": {},
     "output_type": "execute_result"
    }
   ],
   "source": [
    "tot_hrs = {k: prep_hrs.get(k, 0) + srvc_hrs.get(k, 0) for k in set(prep_hrs) | set(srvc_hrs)}\n",
    "tot_hrs\n"
   ]
  },
  {
   "cell_type": "markdown",
   "metadata": {},
   "source": [
    "# Testing the Models\n",
    "## Model A\n",
    "Model A refers to an hourly wage being applied equally to both prep and service labor. As it stands, the current breakdown of hourly compensation looks like this:"
   ]
  },
  {
   "cell_type": "code",
   "execution_count": 138,
   "metadata": {},
   "outputs": [],
   "source": [
    "hrly_comp = {'Alex':20, 'Mike':15, 'Sam':15, 'Randal':15, 'Anton':15}\n"
   ]
  },
  {
   "cell_type": "markdown",
   "metadata": {},
   "source": [
    "Using the weekly hourly estimations for prep and service labor, we can calculate the weekly cost of prep pay, service pay. We can then add these two together to get the weekly gross pay for all employees."
   ]
  },
  {
   "cell_type": "code",
   "execution_count": 139,
   "metadata": {},
   "outputs": [
    {
     "name": "stdout",
     "output_type": "stream",
     "text": [
      "Prep Pay per Person: {'Alex': 280, 'Mike': 45, 'Sam': 30, 'Randal': 30, 'Anton': 15}\n",
      "Service Pay per Person: {'Alex': 560, 'Sam': 180, 'Randal': 180, 'Anton': 330}\n",
      "Gross Pay per Person: {'Sam': 210, 'Mike': 45, 'Anton': 345, 'Alex': 840, 'Randal': 210}\n"
     ]
    }
   ],
   "source": [
    "mod_a_prep_pay = {}\n",
    "for key in prep_hrs:\n",
    "    mod_a_prep_pay[key] = prep_hrs[key] * hrly_comp[key]\n",
    "print(f\"Prep Pay per Person: {mod_a_prep_pay}\")\n",
    "    \n",
    "mod_a_srvc_pay = {}\n",
    "for key in srvc_hrs:\n",
    "    mod_a_srvc_pay[key] = srvc_hrs[key] * hrly_comp[key]\n",
    "print(f\"Service Pay per Person: {mod_a_srvc_pay}\")\n",
    "\n",
    "mod_a_gross_pay =  {i: mod_a_srvc_pay.get(i, 0) + mod_a_prep_pay.get(i, 0)\n",
    "     for i in set(mod_a_srvc_pay).union(mod_a_prep_pay)}\n",
    "print(f\"Gross Pay per Person: {mod_a_gross_pay}\")\n"
   ]
  },
  {
   "cell_type": "markdown",
   "metadata": {},
   "source": [
    "### Model A - Weekly, Biweekly, and Montly Cost to Sanguiche"
   ]
  },
  {
   "cell_type": "code",
   "execution_count": 140,
   "metadata": {},
   "outputs": [
    {
     "name": "stdout",
     "output_type": "stream",
     "text": [
      "Estimated Total Weekly Payroll Cost for Model A: 1650\n",
      "Estimated Total Biweekly Cost for Model A: 3300\n",
      "Estimated Total Monthly Payroll Cost for Model A: 6600\n"
     ]
    }
   ],
   "source": [
    "mod_a_weekly_payroll = sum(gross_pay.values())\n",
    "\n",
    "print(f\"Estimated Total Weekly Payroll Cost for Model A: {mod_a_weekly_payroll}\")\n",
    "print(f\"Estimated Total Biweekly Cost for Model A: {mod_a_weekly_payroll*2}\")\n",
    "print(f\"Estimated Total Monthly Payroll Cost for Model A: {mod_a_weekly_payroll*4}\")\n"
   ]
  },
  {
   "cell_type": "markdown",
   "metadata": {},
   "source": [
    "We can now also calculate hourly wages by taking the total gross pay per person and dividing it by the total amount of hours worked:\n",
    "### Model A - Hourly Pay for Employees"
   ]
  },
  {
   "cell_type": "code",
   "execution_count": 141,
   "metadata": {},
   "outputs": [
    {
     "name": "stdout",
     "output_type": "stream",
     "text": [
      "Each Employee's Hourly Wage for Model A: {'Sam': 15.0, 'Mike': 15.0, 'Anton': 15.0, 'Alex': 20.0, 'Randal': 15.0}\n"
     ]
    }
   ],
   "source": [
    "mod_a_hrly_wage = {x:float(gross_pay[x])/tot_hrs[x] for x in tot_hrs}\n",
    "print(f\"Each Employee's Hourly Wage for Model A: {mod_a_hrly_wage}\")"
   ]
  },
  {
   "cell_type": "markdown",
   "metadata": {},
   "source": [
    "## Model B\n",
    "Model B refers to a model in which a different hourly rate is applied to prep and service labor. Hourly wage breakdowns are proposed as follows:"
   ]
  },
  {
   "cell_type": "code",
   "execution_count": 142,
   "metadata": {},
   "outputs": [],
   "source": [
    "prep_hrly_comp = {'Alex':20, 'Mike':15, 'Sam':15, 'Randal':15, 'Anton':15}\n",
    "srvc_hrly_comp = {'Alex': 20, 'Mike':10, 'Sam':10, 'Randal':10, 'Anton':10}"
   ]
  },
  {
   "cell_type": "code",
   "execution_count": 143,
   "metadata": {},
   "outputs": [
    {
     "name": "stdout",
     "output_type": "stream",
     "text": [
      "Prep Pay per Person: {'Alex': 280, 'Mike': 45, 'Sam': 30, 'Randal': 30, 'Anton': 15}\n",
      "Service Pay per Person: {'Alex': 560, 'Sam': 120, 'Randal': 120, 'Anton': 220}\n",
      "Gross Pay per Person: {'Sam': 150, 'Mike': 45, 'Anton': 235, 'Alex': 840, 'Randal': 150}\n"
     ]
    }
   ],
   "source": [
    "mod_b_prep_pay = {}\n",
    "for key in prep_hrs:\n",
    "    mod_b_prep_pay[key] = prep_hrs[key] * prep_hrly_comp[key]\n",
    "print(f\"Prep Pay per Person: {mod_b_prep_pay}\") \n",
    "\n",
    "mod_b_srvc_pay = {}\n",
    "for key in srvc_hrs:\n",
    "    mod_b_srvc_pay[key] = srvc_hrs[key] * srvc_hrly_comp[key]\n",
    "print(f\"Service Pay per Person: {mod_b_srvc_pay}\")\n",
    "\n",
    "\n",
    "mod_b_gross_pay = {i: mod_b_prep_pay.get(i, 0) + mod_b_srvc_pay.get(i, 0)\n",
    "                   for i in set(mod_b_prep_pay).union(mod_b_srvc_pay)}\n",
    "print(f\"Gross Pay per Person: {mod_b_gross_pay}\")"
   ]
  },
  {
   "cell_type": "markdown",
   "metadata": {},
   "source": [
    "### Model B - Weekly, Biweekly, and Monthly Cost to Sanguiche"
   ]
  },
  {
   "cell_type": "code",
   "execution_count": 144,
   "metadata": {},
   "outputs": [
    {
     "name": "stdout",
     "output_type": "stream",
     "text": [
      "Estimated Total Weekly Payroll Cost for Model B: 1420\n",
      "Estimated Total Biweekly Cost for Model B: 2840\n",
      "Estimated Total Monthly Payroll Cost for Model B: 5680\n"
     ]
    }
   ],
   "source": [
    "mod_b_weekly_payroll = sum(mod_b_gross_pay.values())\n",
    "\n",
    "print(f\"Estimated Total Weekly Payroll Cost for Model B: {mod_b_weekly_payroll}\")\n",
    "print(f\"Estimated Total Biweekly Cost for Model B: {mod_b_weekly_payroll*2}\")\n",
    "print(f\"Estimated Total Monthly Payroll Cost for Model B: {mod_b_weekly_payroll*4}\")"
   ]
  },
  {
   "cell_type": "markdown",
   "metadata": {},
   "source": [
    "### Model B - Hourly Pay for Employees"
   ]
  },
  {
   "cell_type": "code",
   "execution_count": 145,
   "metadata": {},
   "outputs": [
    {
     "name": "stdout",
     "output_type": "stream",
     "text": [
      "Each Employee's Hourly Wage for Model B:{'Sam': 10.71, 'Mike': 15.0, 'Anton': 10.22, 'Alex': 20.0, 'Randal': 10.71}\n"
     ]
    }
   ],
   "source": [
    "mod_b_hrly_wage = {x:float(mod_b_gross_pay[x])/tot_hrs[x] for x in tot_hrs}\n",
    "round_int = 2\n",
    "rounded = {key : round(mod_b_hrly_wage[key], round_int) for key in mod_b_hrly_wage}\n",
    "print(f\"Each Employee's Hourly Wage for Model B:{str(rounded)}\")"
   ]
  },
  {
   "cell_type": "markdown",
   "metadata": {},
   "source": [
    "## Model C \n",
    "Model C is a bit different because prep labor is compensated through an hourly wage while service labor is calculated as a precentage of net sales (money collected minus taxes and tips) for that day. We'll represent those percentages here:\n"
   ]
  },
  {
   "cell_type": "code",
   "execution_count": 146,
   "metadata": {},
   "outputs": [],
   "source": [
    "srvc_perc = {'Alex':.25, 'Mike': .10, 'Sam': .10, 'Randal': .10, 'Anton': .10}"
   ]
  },
  {
   "cell_type": "markdown",
   "metadata": {},
   "source": [
    "### Prep Labor\n",
    "Calculating prep labor compensation is the same as the previous two models where we multiply the amount of prep hours spent by an hourly wage: "
   ]
  },
  {
   "cell_type": "code",
   "execution_count": 147,
   "metadata": {},
   "outputs": [
    {
     "name": "stdout",
     "output_type": "stream",
     "text": [
      "Prep Pay per Person: {'Alex': 280, 'Mike': 45, 'Sam': 30, 'Randal': 30, 'Anton': 15}\n"
     ]
    }
   ],
   "source": [
    "prep_hrly_comp = {'Alex':20, 'Mike':15, 'Sam':15, 'Randal':15, 'Anton':15}\n",
    "\n",
    "mod_c_prep_pay = {}\n",
    "for key in prep_hrs:\n",
    "    mod_c_prep_pay[key] = prep_hrs[key] * prep_hrly_comp[key]\n",
    "print(f\"Prep Pay per Person: {mod_c_prep_pay}\") \n"
   ]
  },
  {
   "cell_type": "markdown",
   "metadata": {},
   "source": [
    "### Service Labor\n",
    "However, in order to calculate compensation for service labor, we're going to have to find some sales numbers to use. For the sake of time here I'm going to pull sales numbers from the month of June and use that to calculate an average of net sales for one service day. We'll then be able to use the estimates of how many hours are worked each week by each employee to see how many times that person would work a service day. Yes, different folks will experience busier and slower days than average, so the amount from person to person will be fluid, but since we're pulling from an average while individual compensation may be different, the weekly and monthly totals should be a good estimate still."
   ]
  },
  {
   "cell_type": "markdown",
   "metadata": {},
   "source": [
    "#### Loading Sales Data\n",
    "This part is messy. Tl;dr: We're loading in sales data so we can spit out an average weekly sales."
   ]
  },
  {
   "cell_type": "code",
   "execution_count": 148,
   "metadata": {},
   "outputs": [
    {
     "data": {
      "text/html": [
       "<div>\n",
       "<style scoped>\n",
       "    .dataframe tbody tr th:only-of-type {\n",
       "        vertical-align: middle;\n",
       "    }\n",
       "\n",
       "    .dataframe tbody tr th {\n",
       "        vertical-align: top;\n",
       "    }\n",
       "\n",
       "    .dataframe thead th {\n",
       "        text-align: right;\n",
       "    }\n",
       "</style>\n",
       "<table border=\"1\" class=\"dataframe\">\n",
       "  <thead>\n",
       "    <tr style=\"text-align: right;\">\n",
       "      <th></th>\n",
       "      <th>Date</th>\n",
       "      <th>SumTot</th>\n",
       "    </tr>\n",
       "  </thead>\n",
       "  <tbody>\n",
       "    <tr>\n",
       "      <th>0</th>\n",
       "      <td>2023-06-01</td>\n",
       "      <td>661.0</td>\n",
       "    </tr>\n",
       "    <tr>\n",
       "      <th>1</th>\n",
       "      <td>2023-06-02</td>\n",
       "      <td>547.0</td>\n",
       "    </tr>\n",
       "    <tr>\n",
       "      <th>2</th>\n",
       "      <td>2023-06-03</td>\n",
       "      <td>317.0</td>\n",
       "    </tr>\n",
       "    <tr>\n",
       "      <th>3</th>\n",
       "      <td>2023-06-04</td>\n",
       "      <td>564.0</td>\n",
       "    </tr>\n",
       "    <tr>\n",
       "      <th>4</th>\n",
       "      <td>2023-06-05</td>\n",
       "      <td>149.0</td>\n",
       "    </tr>\n",
       "    <tr>\n",
       "      <th>5</th>\n",
       "      <td>2023-06-08</td>\n",
       "      <td>394.0</td>\n",
       "    </tr>\n",
       "    <tr>\n",
       "      <th>6</th>\n",
       "      <td>2023-06-09</td>\n",
       "      <td>984.0</td>\n",
       "    </tr>\n",
       "    <tr>\n",
       "      <th>7</th>\n",
       "      <td>2023-06-10</td>\n",
       "      <td>459.0</td>\n",
       "    </tr>\n",
       "    <tr>\n",
       "      <th>8</th>\n",
       "      <td>2023-06-11</td>\n",
       "      <td>531.5</td>\n",
       "    </tr>\n",
       "    <tr>\n",
       "      <th>9</th>\n",
       "      <td>2023-06-15</td>\n",
       "      <td>672.0</td>\n",
       "    </tr>\n",
       "    <tr>\n",
       "      <th>10</th>\n",
       "      <td>2023-06-16</td>\n",
       "      <td>769.5</td>\n",
       "    </tr>\n",
       "    <tr>\n",
       "      <th>11</th>\n",
       "      <td>2023-06-17</td>\n",
       "      <td>740.5</td>\n",
       "    </tr>\n",
       "    <tr>\n",
       "      <th>12</th>\n",
       "      <td>2023-06-18</td>\n",
       "      <td>578.0</td>\n",
       "    </tr>\n",
       "    <tr>\n",
       "      <th>13</th>\n",
       "      <td>2023-06-22</td>\n",
       "      <td>167.0</td>\n",
       "    </tr>\n",
       "    <tr>\n",
       "      <th>14</th>\n",
       "      <td>2023-06-23</td>\n",
       "      <td>196.0</td>\n",
       "    </tr>\n",
       "    <tr>\n",
       "      <th>15</th>\n",
       "      <td>2023-06-24</td>\n",
       "      <td>278.0</td>\n",
       "    </tr>\n",
       "    <tr>\n",
       "      <th>16</th>\n",
       "      <td>2023-06-25</td>\n",
       "      <td>647.0</td>\n",
       "    </tr>\n",
       "    <tr>\n",
       "      <th>17</th>\n",
       "      <td>2023-06-29</td>\n",
       "      <td>1063.0</td>\n",
       "    </tr>\n",
       "    <tr>\n",
       "      <th>18</th>\n",
       "      <td>2023-06-30</td>\n",
       "      <td>547.5</td>\n",
       "    </tr>\n",
       "  </tbody>\n",
       "</table>\n",
       "</div>"
      ],
      "text/plain": [
       "          Date  SumTot\n",
       "0   2023-06-01   661.0\n",
       "1   2023-06-02   547.0\n",
       "2   2023-06-03   317.0\n",
       "3   2023-06-04   564.0\n",
       "4   2023-06-05   149.0\n",
       "5   2023-06-08   394.0\n",
       "6   2023-06-09   984.0\n",
       "7   2023-06-10   459.0\n",
       "8   2023-06-11   531.5\n",
       "9   2023-06-15   672.0\n",
       "10  2023-06-16   769.5\n",
       "11  2023-06-17   740.5\n",
       "12  2023-06-18   578.0\n",
       "13  2023-06-22   167.0\n",
       "14  2023-06-23   196.0\n",
       "15  2023-06-24   278.0\n",
       "16  2023-06-25   647.0\n",
       "17  2023-06-29  1063.0\n",
       "18  2023-06-30   547.5"
      ]
     },
     "execution_count": 148,
     "metadata": {},
     "output_type": "execute_result"
    }
   ],
   "source": [
    "from datetime import datetime\n",
    "import pandas as pd\n",
    "import numpy as np\n",
    "\n",
    "def load_sales_data():\n",
    "    sales = pd.read_csv(\"../data/sales.csv\")\n",
    "    # Date to datetimeobject\n",
    "    sales['Date'] = pd.to_datetime(sales['Date']).dt.date\n",
    "    # Replace old item and category names with current ones\n",
    "    item_name_replacement = {\"(ZM) Meatball Parm\": \"Meatball sub\", \"(ZM) Chicken Parm\": \"Chicken Parm\", \"Meatball Sub (ZM)\": \"Meatball sub\", \"Eggplant Parm (ZM)\": \"Eggplant Parm\", \"Cassie (ZM)\": \"Cassie\", \"Cold Cut Combo(ZM)\":\"Cold Cut Combo\", \"Chicken Parm (ZM)\": \"Chicken Parm\", \"The Caprese\": \"Caprese\", \"Cold Cut\": \"Cold Cut Combo\", \"Zapps (ZM)\": \"Zapps\", \"Mozz Stix (ZM)\":\"Mozz Stix\", \"(ZM)Mozz Stix\": \"Mozz Stix\", \"Garlic Bread (ZM)\":\"Garlic Bread\", \"Zappa (ZM)\": \"Zapps\", \"Chicken Parmesan Sandwich\": \"Chicken Parm\", \"Eggplant Parmesan Sandwich\": \"Eggplant Parm\", \"Meatball Sub Sandwich\": \"Meatball sub\"}\n",
    "    for k, v in item_name_replacement.items():\n",
    "        sales.replace(k, v, inplace=True)\n",
    "    cat_name_replacement = {\"Finger Food\": \"Sides\"}\n",
    "    for k, v in cat_name_replacement.items():\n",
    "        sales.replace(k, v, inplace=True)\n",
    "    # Replace where Category is NaN with the correct type of category\n",
    "    sandwiches = ['Meatball sub', 'Eggplant Parm', 'Cold Cut Combo', 'Chicken Parm', 'Caprese', 'Cassie', 'Sausage']\n",
    "    sides = ['Single Meatball', 'Mozz Stix', 'Meatball Slider', 'Eggplant Fries', 'Garlic Bread', 'Zapps']\n",
    "    sales['Category'] = np.where((sales['Category'].isnull()) & (sales['Item'].isin(sandwiches)), 'Sandwiches', sales['Category'])\n",
    "    sales['Category'] = np.where((sales['Category'].isnull()) & (sales['Item'].isin(sides)), 'Sides', sales['Category'])\n",
    "    # Take out \"Custom Amount\" category of items\n",
    "    sales = sales[sales['Item'].str.contains(\"Custom Amount\") == False]\n",
    "    # Gross Sales to float\n",
    "    sales['Gross Sales'] = sales['Gross Sales'].str.replace('$','').astype(float)\n",
    "\n",
    "    return sales\n",
    "\n",
    "sales = load_sales_data()\n",
    "\n",
    "jun1 = datetime(2023, 6, 1).date()\n",
    "jun30 = datetime(2023, 6, 30).date()\n",
    "sales = sales[sales['Date'].between(jun1, jun30)]\n",
    "\n",
    "_ = sales.groupby('Date')['Gross Sales'].agg(list).to_dict()\n",
    "sales_by_day_dict = {k:sum(v) for k, v in _.items()}\n",
    "sales_df = pd.DataFrame.from_dict(list(sales_by_day_dict.items()))\n",
    "sales_df.columns = ['Date', 'SumTot']\n",
    "sales_df"
   ]
  },
  {
   "cell_type": "markdown",
   "metadata": {},
   "source": [
    "We've got net sales for each day in June. Let's get an average:"
   ]
  },
  {
   "cell_type": "code",
   "execution_count": 149,
   "metadata": {},
   "outputs": [
    {
     "data": {
      "text/plain": [
       "540.26"
      ]
     },
     "execution_count": 149,
     "metadata": {},
     "output_type": "execute_result"
    }
   ],
   "source": [
    "net_sales_daily_avg = round(sales_df['SumTot'].mean(), 2)\n",
    "net_sales_daily_avg"
   ]
  },
  {
   "cell_type": "markdown",
   "metadata": {},
   "source": [
    "Remember those service percentages from earlier? Now we're going to multiply those percentages times the net sales daily average. This is the amount of service pay each person will on average take home per shift."
   ]
  },
  {
   "cell_type": "code",
   "execution_count": 150,
   "metadata": {},
   "outputs": [
    {
     "data": {
      "text/plain": [
       "{'Alex': 135.065,\n",
       " 'Mike': 54.026,\n",
       " 'Sam': 54.026,\n",
       " 'Randal': 54.026,\n",
       " 'Anton': 54.026}"
      ]
     },
     "execution_count": 150,
     "metadata": {},
     "output_type": "execute_result"
    }
   ],
   "source": [
    "avg_pay_per_shift = {}\n",
    "for key in srvc_perc:\n",
    "    avg_pay_per_shift[key] = srvc_perc[key] * net_sales_daily_avg\n",
    "\n",
    "avg_pay_per_shift"
   ]
  },
  {
   "cell_type": "markdown",
   "metadata": {},
   "source": [
    "Now, we can say that a team of people working a shift can on average expect to net this much in pay. Let's now estimate how many shifts everyone will work in a week. Remember, hours don't matter here because it's a percentage of sales."
   ]
  },
  {
   "cell_type": "code",
   "execution_count": 151,
   "metadata": {},
   "outputs": [
    {
     "name": "stdout",
     "output_type": "stream",
     "text": [
      "Prep Pay per Person: {'Alex': 540.26, 'Mike': 0.0, 'Sam': 108.052, 'Randal': 108.052, 'Anton': 162.078}\n"
     ]
    }
   ],
   "source": [
    "srvc_days = {'Alex': 4, 'Sam': 2, 'Randal': 2, 'Anton': 3, 'Mike': 0}\n",
    "\n",
    "mod_c_srvc_pay = {}\n",
    "for key in avg_pay_per_shift:\n",
    "    mod_c_srvc_pay[key] = srvc_days[key] * avg_pay_per_shift[key]\n",
    "print(f\"Prep Pay per Person: {mod_c_srvc_pay}\") "
   ]
  },
  {
   "cell_type": "code",
   "execution_count": 152,
   "metadata": {},
   "outputs": [
    {
     "name": "stdout",
     "output_type": "stream",
     "text": [
      "Gross Pay per Person: {'Sam': 138.05200000000002, 'Mike': 45.0, 'Anton': 177.078, 'Alex': 820.26, 'Randal': 138.05200000000002}\n"
     ]
    }
   ],
   "source": [
    "mod_c_gross_pay = {i: mod_c_prep_pay.get(i, 0) + mod_c_srvc_pay.get(i, 0)\n",
    "                   for i in set(mod_c_prep_pay).union(mod_c_srvc_pay)}\n",
    "print(f\"Gross Pay per Person: {mod_c_gross_pay}\")"
   ]
  },
  {
   "cell_type": "markdown",
   "metadata": {},
   "source": [
    "### Model C - Weekly, Biweekly, and Monthly Cost to Sanguiche"
   ]
  },
  {
   "cell_type": "code",
   "execution_count": 153,
   "metadata": {},
   "outputs": [
    {
     "name": "stdout",
     "output_type": "stream",
     "text": [
      "Estimated Total Weekly Payroll Cost for Model C: 1318.44\n",
      "Estimated Total Biweekly Cost for Model C: 2636.88\n",
      "Estimated Total Monthly Payroll Cost for Model C: 5273.77\n"
     ]
    }
   ],
   "source": [
    "mod_c_weekly_payroll = sum(mod_c_gross_pay.values())\n",
    "\n",
    "print(f\"Estimated Total Weekly Payroll Cost for Model C: {round(mod_c_weekly_payroll, 2)}\")\n",
    "print(f\"Estimated Total Biweekly Cost for Model C: {round(mod_c_weekly_payroll*2, 2)}\")\n",
    "print(f\"Estimated Total Monthly Payroll Cost for Model C: {round(mod_c_weekly_payroll*4, 2)}\")"
   ]
  },
  {
   "cell_type": "markdown",
   "metadata": {},
   "source": [
    "### Model C - Hourly Pay for Employees"
   ]
  },
  {
   "cell_type": "code",
   "execution_count": 154,
   "metadata": {},
   "outputs": [
    {
     "name": "stdout",
     "output_type": "stream",
     "text": [
      "Each Employee's Hourly Wage for Model C:{'Sam': 9.86, 'Mike': 15.0, 'Anton': 7.7, 'Alex': 19.53, 'Randal': 9.86}\n"
     ]
    }
   ],
   "source": [
    "mod_c_hrly_wage = {x:float(mod_c_gross_pay[x])/tot_hrs[x] for x in tot_hrs}\n",
    "round_int = 2\n",
    "rounded = {key : round(mod_c_hrly_wage[key], round_int) for key in mod_c_hrly_wage}\n",
    "print(f\"Each Employee's Hourly Wage for Model C:{str(rounded)}\")"
   ]
  }
 ],
 "metadata": {
  "kernelspec": {
   "display_name": ".venv",
   "language": "python",
   "name": "python3"
  },
  "language_info": {
   "codemirror_mode": {
    "name": "ipython",
    "version": 3
   },
   "file_extension": ".py",
   "mimetype": "text/x-python",
   "name": "python",
   "nbconvert_exporter": "python",
   "pygments_lexer": "ipython3",
   "version": "3.11.2"
  },
  "orig_nbformat": 4
 },
 "nbformat": 4,
 "nbformat_minor": 2
}
